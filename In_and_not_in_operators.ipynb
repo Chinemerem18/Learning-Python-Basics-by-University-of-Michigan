{
  "nbformat": 4,
  "nbformat_minor": 0,
  "metadata": {
    "colab": {
      "name": "In and not in operators",
      "provenance": [],
      "authorship_tag": "ABX9TyNonrPySS2mAdNWgETxDEBu",
      "include_colab_link": true
    },
    "kernelspec": {
      "name": "python3",
      "display_name": "Python 3"
    }
  },
  "cells": [
    {
      "cell_type": "markdown",
      "metadata": {
        "id": "view-in-github",
        "colab_type": "text"
      },
      "source": [
        "<a href=\"https://colab.research.google.com/github/Chinemerem18/Learning-Python-Basics-by-University-of-Michigan/blob/master/In_and_not_in_operators.ipynb\" target=\"_parent\"><img src=\"https://colab.research.google.com/assets/colab-badge.svg\" alt=\"Open In Colab\"/></a>"
      ]
    },
    {
      "cell_type": "markdown",
      "metadata": {
        "id": "CptamiK8JciK",
        "colab_type": "text"
      },
      "source": [
        "The in operator tests for the presense of a value in a given sequence while a not in operator tests for the absense of a value in a sequence. It returns a boolean value. That is, it is either true or false."
      ]
    },
    {
      "cell_type": "code",
      "metadata": {
        "id": "hQdSeg3ZKYHi",
        "colab_type": "code",
        "colab": {
          "base_uri": "https://localhost:8080/",
          "height": 51
        },
        "outputId": "48a47ce5-5c34-4172-b154-6d5c6c777a0b"
      },
      "source": [
        "str1 = \"Humpty Dumpty shouldnt have sat on a fence\"\n",
        "print(\"pty\" in str1)\n",
        "print(\"pty\" not in str1)"
      ],
      "execution_count": 5,
      "outputs": [
        {
          "output_type": "stream",
          "text": [
            "True\n",
            "False\n"
          ],
          "name": "stdout"
        }
      ]
    }
  ]
}