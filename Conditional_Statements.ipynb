{
  "nbformat": 4,
  "nbformat_minor": 0,
  "metadata": {
    "colab": {
      "name": "Conditional Statements.ipynb",
      "provenance": [],
      "authorship_tag": "ABX9TyNdU5tB29Mk5m9ZrVCKwFhJ",
      "include_colab_link": true
    },
    "kernelspec": {
      "name": "python3",
      "display_name": "Python 3"
    }
  },
  "cells": [
    {
      "cell_type": "markdown",
      "metadata": {
        "id": "view-in-github",
        "colab_type": "text"
      },
      "source": [
        "<a href=\"https://colab.research.google.com/github/Chinemerem18/Learning-Python-Basics-by-University-of-Michigan/blob/master/Conditional_Statements.ipynb\" target=\"_parent\"><img src=\"https://colab.research.google.com/assets/colab-badge.svg\" alt=\"Open In Colab\"/></a>"
      ]
    },
    {
      "cell_type": "markdown",
      "metadata": {
        "id": "GQ7GB8s2wKJg",
        "colab_type": "text"
      },
      "source": [
        "The statements used in conditional execution include the if, elif and else statements."
      ]
    },
    {
      "cell_type": "code",
      "metadata": {
        "id": "VTKmN44BwEfS",
        "colab_type": "code",
        "colab": {
          "base_uri": "https://localhost:8080/",
          "height": 510
        },
        "outputId": "8bbaee19-bf65-43cb-85b3-3e2939b8616b"
      },
      "source": [
        "str1 = \"The cow jumped over the moon.\"\n",
        "vowels = [\"a\", \"e\", \"i\", \"o\", \"u\"]\n",
        "special_characters = [\" \", \".\"]\n",
        "for s in str1:\n",
        "  if s in vowels:\n",
        "    print(s + \" is a vowel\")\n",
        "  elif s in special_characters:\n",
        "    print(s + \" is a special character\")\n",
        "  else:\n",
        "    print(s + \" is a consonant\")"
      ],
      "execution_count": 9,
      "outputs": [
        {
          "output_type": "stream",
          "text": [
            "T is a consonant\n",
            "h is a consonant\n",
            "e is a vowel\n",
            "  is a special character\n",
            "c is a consonant\n",
            "o is a vowel\n",
            "w is a consonant\n",
            "  is a special character\n",
            "j is a consonant\n",
            "u is a vowel\n",
            "m is a consonant\n",
            "p is a consonant\n",
            "e is a vowel\n",
            "d is a consonant\n",
            "  is a special character\n",
            "o is a vowel\n",
            "v is a consonant\n",
            "e is a vowel\n",
            "r is a consonant\n",
            "  is a special character\n",
            "t is a consonant\n",
            "h is a consonant\n",
            "e is a vowel\n",
            "  is a special character\n",
            "m is a consonant\n",
            "o is a vowel\n",
            "o is a vowel\n",
            "n is a consonant\n",
            ". is a special character\n"
          ],
          "name": "stdout"
        }
      ]
    },
    {
      "cell_type": "code",
      "metadata": {
        "id": "jaGD7NA1xpL-",
        "colab_type": "code",
        "colab": {}
      },
      "source": [
        ""
      ],
      "execution_count": null,
      "outputs": []
    },
    {
      "cell_type": "code",
      "metadata": {
        "id": "PRi3P-cwwvuN",
        "colab_type": "code",
        "colab": {}
      },
      "source": [
        ""
      ],
      "execution_count": null,
      "outputs": []
    }
  ]
}