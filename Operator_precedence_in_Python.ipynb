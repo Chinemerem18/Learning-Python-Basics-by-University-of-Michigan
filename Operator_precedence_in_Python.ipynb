{
  "nbformat": 4,
  "nbformat_minor": 0,
  "metadata": {
    "colab": {
      "name": "Operator precedence in Python.ipynb",
      "provenance": [],
      "collapsed_sections": [],
      "authorship_tag": "ABX9TyOPD7wbKaDf0H6bpDH6cwaA",
      "include_colab_link": true
    },
    "kernelspec": {
      "name": "python3",
      "display_name": "Python 3"
    }
  },
  "cells": [
    {
      "cell_type": "markdown",
      "metadata": {
        "id": "view-in-github",
        "colab_type": "text"
      },
      "source": [
        "<a href=\"https://colab.research.google.com/github/Chinemerem18/Learning-Python-Basics-by-University-of-Michigan/blob/master/Operator_precedence_in_Python.ipynb\" target=\"_parent\"><img src=\"https://colab.research.google.com/assets/colab-badge.svg\" alt=\"Open In Colab\"/></a>"
      ]
    },
    {
      "cell_type": "markdown",
      "metadata": {
        "id": "ZSVvEFbRqyBH",
        "colab_type": "text"
      },
      "source": [
        "The operator precedence goes like this:\n",
        "\n",
        "\n",
        "1. Parenthesis\n",
        "2. Exponentials\n",
        "3. Multiplication\n",
        "4. Division\n",
        "5. Addition/Subtraction in order of appearance moving from left to right \n",
        "6. Comparison operators such as <, >, <=, >=, ==, in, not in\n",
        "7. Not\n",
        "8. And\n",
        "9. Or\n",
        "\n",
        "\n"
      ]
    },
    {
      "cell_type": "code",
      "metadata": {
        "id": "WFi-NUP2qo1m",
        "colab_type": "code",
        "colab": {
          "base_uri": "https://localhost:8080/",
          "height": 136
        },
        "outputId": "70e43d20-8b55-4ba6-95f4-cc80f3c76f17"
      },
      "source": [
        "print((5//2) + 2**3 - 7 <= 31 - 6 * 5)\n",
        "print(\"(5//2) runs first and the answer is 2.\")\n",
        "print(\"Then 2**3 runs and the answer is 8. \")\n",
        "print(\"Then 6*5 runs and the answer is 30\")\n",
        "print(\"Then 2 + 8 - 7 rins and the answer is 3\")\n",
        "print(\"Then 31 - 30 runs and the answer is 1\")\n",
        "print(\"Then the comparison 3 <= 1 runs and is False\")"
      ],
      "execution_count": 2,
      "outputs": [
        {
          "output_type": "stream",
          "text": [
            "False\n",
            "(5//2) runs first and the answer is 2.\n",
            "Then 2**3 runs and the answer is 8. \n",
            "Then 6*5 runs and the answer is 30\n",
            "Then 2 + 8 - 7 rins and the answer is 3\n",
            "Then 31 - 30 runs and the answer is 1\n",
            "Then the comparison 3 <= 1 runs and is False\n"
          ],
          "name": "stdout"
        }
      ]
    }
  ]
}