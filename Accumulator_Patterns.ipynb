{
  "nbformat": 4,
  "nbformat_minor": 0,
  "metadata": {
    "colab": {
      "name": "Accumulator Patterns.ipynb",
      "provenance": [],
      "authorship_tag": "ABX9TyN2aa7d3GJtVIKoAuJVknD7",
      "include_colab_link": true
    },
    "kernelspec": {
      "name": "python3",
      "display_name": "Python 3"
    }
  },
  "cells": [
    {
      "cell_type": "markdown",
      "metadata": {
        "id": "view-in-github",
        "colab_type": "text"
      },
      "source": [
        "<a href=\"https://colab.research.google.com/github/Chinemerem18/Learning-Python-Basics-by-University-of-Michigan/blob/master/Accumulator_Patterns.ipynb\" target=\"_parent\"><img src=\"https://colab.research.google.com/assets/colab-badge.svg\" alt=\"Open In Colab\"/></a>"
      ]
    },
    {
      "cell_type": "markdown",
      "metadata": {
        "id": "9HZGtPdsyfWk",
        "colab_type": "text"
      },
      "source": [
        "The accumulator pattern increases the value of a previously set variable given the occurance of an event."
      ]
    },
    {
      "cell_type": "code",
      "metadata": {
        "id": "JWC9FYFRyaMJ",
        "colab_type": "code",
        "colab": {
          "base_uri": "https://localhost:8080/",
          "height": 204
        },
        "outputId": "d4fb440c-4800-4183-ff44-2e0448dc09d2"
      },
      "source": [
        "num_of_even_num = 0\n",
        "for i in range(0,11):\n",
        "  if i%2 == 0 and i != 0:\n",
        "    num_of_even_num += 1\n",
        "    print(\"The current value of num_even_num is \") \n",
        "    print(num_of_even_num)\n",
        "print(\"The loop has run out\")"
      ],
      "execution_count": 9,
      "outputs": [
        {
          "output_type": "stream",
          "text": [
            "The current value of num_even_num is \n",
            "1\n",
            "The current value of num_even_num is \n",
            "2\n",
            "The current value of num_even_num is \n",
            "3\n",
            "The current value of num_even_num is \n",
            "4\n",
            "The current value of num_even_num is \n",
            "5\n",
            "The loop has run out\n"
          ],
          "name": "stdout"
        }
      ]
    },
    {
      "cell_type": "code",
      "metadata": {
        "id": "1COByBsty-_I",
        "colab_type": "code",
        "colab": {}
      },
      "source": [
        ""
      ],
      "execution_count": null,
      "outputs": []
    }
  ]
}